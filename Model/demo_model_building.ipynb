{
 "cells": [
  {
   "cell_type": "code",
   "execution_count": 1,
   "metadata": {},
   "outputs": [],
   "source": [
    "import numpy as np\n",
    "import tensorflow as tf\n",
    "from tensorflow.keras.preprocessing.image import ImageDataGenerator"
   ]
  },
  {
   "cell_type": "code",
   "execution_count": 2,
   "metadata": {},
   "outputs": [
    {
     "data": {
      "text/plain": [
       "'2.16.1'"
      ]
     },
     "execution_count": 2,
     "metadata": {},
     "output_type": "execute_result"
    }
   ],
   "source": [
    "tf.__version__"
   ]
  },
  {
   "cell_type": "code",
   "execution_count": 3,
   "metadata": {},
   "outputs": [
    {
     "name": "stdout",
     "output_type": "stream",
     "text": [
      "Found 4076 images belonging to 80 classes.\n"
     ]
    }
   ],
   "source": [
    "train_datagen = ImageDataGenerator(rescale = 1./255,\n",
    "                                   shear_range = 0.2,\n",
    "                                   zoom_range = 0.2,\n",
    "                                   horizontal_flip = True)\n",
    "training_set = train_datagen.flow_from_directory(r'dataset\\training',\n",
    "                                                 target_size = (128,128),\n",
    "                                                 batch_size = 5,\n",
    "                                                 class_mode = 'categorical')"
   ]
  },
  {
   "cell_type": "code",
   "execution_count": 4,
   "metadata": {},
   "outputs": [
    {
     "name": "stdout",
     "output_type": "stream",
     "text": [
      "Found 2824 images belonging to 80 classes.\n"
     ]
    }
   ],
   "source": [
    "test_datagen = ImageDataGenerator(rescale = 1./255)\n",
    "test_set = test_datagen.flow_from_directory(r'dataset\\test',\n",
    "                                            target_size = (128,128),\n",
    "                                            batch_size = 5,\n",
    "                                            class_mode = 'categorical'\n",
    "                                            )"
   ]
  },
  {
   "cell_type": "code",
   "execution_count": 5,
   "metadata": {},
   "outputs": [
    {
     "name": "stderr",
     "output_type": "stream",
     "text": [
      "c:\\Users\\rahul\\Desktop\\Final Year Project\\project\\venv\\Lib\\site-packages\\keras\\src\\layers\\convolutional\\base_conv.py:107: UserWarning: Do not pass an `input_shape`/`input_dim` argument to a layer. When using Sequential models, prefer using an `Input(shape)` object as the first layer in the model instead.\n",
      "  super().__init__(activity_regularizer=activity_regularizer, **kwargs)\n"
     ]
    }
   ],
   "source": [
    "#creating cnn sequential\n",
    "cnn = tf.keras.models.Sequential()\n",
    "\n",
    "\n",
    "#adding filter, pooler and Flater\n",
    "cnn.add(tf.keras.layers.Conv2D(filters=32, kernel_size = 3, activation='relu', input_shape=[128, 128, 3]))\n",
    "cnn.add(tf.keras.layers.MaxPool2D(pool_size=2, strides=2))\n",
    "cnn.add(tf.keras.layers.Conv2D(filters=32, kernel_size=3, activation='relu'))\n",
    "cnn.add(tf.keras.layers.MaxPool2D(pool_size=2, strides=2))\n",
    "cnn.add(tf.keras.layers.Flatten())\n",
    "\n",
    "#adding deep neural network to cnn\n",
    "cnn.add(tf.keras.layers.Dense(units=128, activation='relu'))\n",
    "cnn.add(tf.keras.layers.Dense(units=80, activation='softmax'))\n",
    "\n",
    "cnn.compile(optimizer = 'adam', loss = 'categorical_crossentropy', metrics = ['accuracy'])"
   ]
  },
  {
   "cell_type": "code",
   "execution_count": 6,
   "metadata": {},
   "outputs": [
    {
     "name": "stdout",
     "output_type": "stream",
     "text": [
      "Epoch 1/50\n"
     ]
    },
    {
     "name": "stderr",
     "output_type": "stream",
     "text": [
      "c:\\Users\\rahul\\Desktop\\Final Year Project\\project\\venv\\Lib\\site-packages\\keras\\src\\trainers\\data_adapters\\py_dataset_adapter.py:121: UserWarning: Your `PyDataset` class should call `super().__init__(**kwargs)` in its constructor. `**kwargs` can include `workers`, `use_multiprocessing`, `max_queue_size`. Do not pass these arguments to `fit()`, as they will be ignored.\n",
      "  self._warn_if_super_not_called()\n"
     ]
    },
    {
     "name": "stdout",
     "output_type": "stream",
     "text": [
      "\u001b[1m816/816\u001b[0m \u001b[32m━━━━━━━━━━━━━━━━━━━━\u001b[0m\u001b[37m\u001b[0m \u001b[1m259s\u001b[0m 315ms/step - accuracy: 0.0351 - loss: 4.3099 - val_accuracy: 0.0354 - val_loss: 4.5586\n",
      "Epoch 2/50\n",
      "\u001b[1m816/816\u001b[0m \u001b[32m━━━━━━━━━━━━━━━━━━━━\u001b[0m\u001b[37m\u001b[0m \u001b[1m251s\u001b[0m 307ms/step - accuracy: 0.0853 - loss: 3.9015 - val_accuracy: 0.0726 - val_loss: 4.4509\n",
      "Epoch 3/50\n",
      "\u001b[1m816/816\u001b[0m \u001b[32m━━━━━━━━━━━━━━━━━━━━\u001b[0m\u001b[37m\u001b[0m \u001b[1m240s\u001b[0m 293ms/step - accuracy: 0.1597 - loss: 3.4234 - val_accuracy: 0.0931 - val_loss: 4.5088\n",
      "Epoch 4/50\n",
      "\u001b[1m816/816\u001b[0m \u001b[32m━━━━━━━━━━━━━━━━━━━━\u001b[0m\u001b[37m\u001b[0m \u001b[1m242s\u001b[0m 295ms/step - accuracy: 0.2142 - loss: 3.1580 - val_accuracy: 0.0864 - val_loss: 4.5779\n",
      "Epoch 5/50\n",
      "\u001b[1m816/816\u001b[0m \u001b[32m━━━━━━━━━━━━━━━━━━━━\u001b[0m\u001b[37m\u001b[0m \u001b[1m239s\u001b[0m 291ms/step - accuracy: 0.2547 - loss: 2.9352 - val_accuracy: 0.1186 - val_loss: 4.6654\n",
      "Epoch 6/50\n",
      "\u001b[1m816/816\u001b[0m \u001b[32m━━━━━━━━━━━━━━━━━━━━\u001b[0m\u001b[37m\u001b[0m \u001b[1m225s\u001b[0m 275ms/step - accuracy: 0.3177 - loss: 2.6589 - val_accuracy: 0.1161 - val_loss: 4.9192\n",
      "Epoch 7/50\n",
      "\u001b[1m816/816\u001b[0m \u001b[32m━━━━━━━━━━━━━━━━━━━━\u001b[0m\u001b[37m\u001b[0m \u001b[1m228s\u001b[0m 278ms/step - accuracy: 0.3588 - loss: 2.4952 - val_accuracy: 0.1317 - val_loss: 4.8317\n",
      "Epoch 8/50\n",
      "\u001b[1m816/816\u001b[0m \u001b[32m━━━━━━━━━━━━━━━━━━━━\u001b[0m\u001b[37m\u001b[0m \u001b[1m236s\u001b[0m 288ms/step - accuracy: 0.3864 - loss: 2.3190 - val_accuracy: 0.1445 - val_loss: 5.0200\n",
      "Epoch 9/50\n",
      "\u001b[1m816/816\u001b[0m \u001b[32m━━━━━━━━━━━━━━━━━━━━\u001b[0m\u001b[37m\u001b[0m \u001b[1m226s\u001b[0m 276ms/step - accuracy: 0.4101 - loss: 2.1739 - val_accuracy: 0.1278 - val_loss: 5.7025\n",
      "Epoch 10/50\n",
      "\u001b[1m816/816\u001b[0m \u001b[32m━━━━━━━━━━━━━━━━━━━━\u001b[0m\u001b[37m\u001b[0m \u001b[1m226s\u001b[0m 276ms/step - accuracy: 0.4628 - loss: 2.0003 - val_accuracy: 0.1611 - val_loss: 5.1653\n",
      "Epoch 11/50\n",
      "\u001b[1m816/816\u001b[0m \u001b[32m━━━━━━━━━━━━━━━━━━━━\u001b[0m\u001b[37m\u001b[0m \u001b[1m225s\u001b[0m 275ms/step - accuracy: 0.4741 - loss: 1.9128 - val_accuracy: 0.1569 - val_loss: 5.3357\n",
      "Epoch 12/50\n",
      "\u001b[1m816/816\u001b[0m \u001b[32m━━━━━━━━━━━━━━━━━━━━\u001b[0m\u001b[37m\u001b[0m \u001b[1m225s\u001b[0m 275ms/step - accuracy: 0.5021 - loss: 1.8057 - val_accuracy: 0.1438 - val_loss: 6.1124\n",
      "Epoch 13/50\n",
      "\u001b[1m816/816\u001b[0m \u001b[32m━━━━━━━━━━━━━━━━━━━━\u001b[0m\u001b[37m\u001b[0m \u001b[1m227s\u001b[0m 276ms/step - accuracy: 0.5488 - loss: 1.6263 - val_accuracy: 0.1491 - val_loss: 6.4483\n",
      "Epoch 14/50\n",
      "\u001b[1m816/816\u001b[0m \u001b[32m━━━━━━━━━━━━━━━━━━━━\u001b[0m\u001b[37m\u001b[0m \u001b[1m231s\u001b[0m 282ms/step - accuracy: 0.5559 - loss: 1.5888 - val_accuracy: 0.1586 - val_loss: 6.3952\n",
      "Epoch 15/50\n",
      "\u001b[1m816/816\u001b[0m \u001b[32m━━━━━━━━━━━━━━━━━━━━\u001b[0m\u001b[37m\u001b[0m \u001b[1m227s\u001b[0m 278ms/step - accuracy: 0.5824 - loss: 1.5213 - val_accuracy: 0.1452 - val_loss: 6.7157\n",
      "Epoch 16/50\n",
      "\u001b[1m816/816\u001b[0m \u001b[32m━━━━━━━━━━━━━━━━━━━━\u001b[0m\u001b[37m\u001b[0m \u001b[1m224s\u001b[0m 273ms/step - accuracy: 0.5969 - loss: 1.4615 - val_accuracy: 0.1526 - val_loss: 6.7797\n",
      "Epoch 17/50\n",
      "\u001b[1m816/816\u001b[0m \u001b[32m━━━━━━━━━━━━━━━━━━━━\u001b[0m\u001b[37m\u001b[0m \u001b[1m223s\u001b[0m 272ms/step - accuracy: 0.6115 - loss: 1.3750 - val_accuracy: 0.1385 - val_loss: 7.2664\n",
      "Epoch 18/50\n",
      "\u001b[1m816/816\u001b[0m \u001b[32m━━━━━━━━━━━━━━━━━━━━\u001b[0m\u001b[37m\u001b[0m \u001b[1m225s\u001b[0m 274ms/step - accuracy: 0.6280 - loss: 1.2832 - val_accuracy: 0.1654 - val_loss: 6.9641\n",
      "Epoch 19/50\n",
      "\u001b[1m816/816\u001b[0m \u001b[32m━━━━━━━━━━━━━━━━━━━━\u001b[0m\u001b[37m\u001b[0m \u001b[1m236s\u001b[0m 289ms/step - accuracy: 0.6559 - loss: 1.2124 - val_accuracy: 0.1714 - val_loss: 6.8710\n",
      "Epoch 20/50\n",
      "\u001b[1m816/816\u001b[0m \u001b[32m━━━━━━━━━━━━━━━━━━━━\u001b[0m\u001b[37m\u001b[0m \u001b[1m248s\u001b[0m 303ms/step - accuracy: 0.6691 - loss: 1.1598 - val_accuracy: 0.1335 - val_loss: 8.1159\n",
      "Epoch 21/50\n",
      "\u001b[1m816/816\u001b[0m \u001b[32m━━━━━━━━━━━━━━━━━━━━\u001b[0m\u001b[37m\u001b[0m \u001b[1m242s\u001b[0m 296ms/step - accuracy: 0.6563 - loss: 1.1309 - val_accuracy: 0.1739 - val_loss: 7.7386\n",
      "Epoch 22/50\n",
      "\u001b[1m816/816\u001b[0m \u001b[32m━━━━━━━━━━━━━━━━━━━━\u001b[0m\u001b[37m\u001b[0m \u001b[1m250s\u001b[0m 306ms/step - accuracy: 0.6594 - loss: 1.1267 - val_accuracy: 0.1774 - val_loss: 7.6043\n",
      "Epoch 23/50\n",
      "\u001b[1m816/816\u001b[0m \u001b[32m━━━━━━━━━━━━━━━━━━━━\u001b[0m\u001b[37m\u001b[0m \u001b[1m247s\u001b[0m 302ms/step - accuracy: 0.6919 - loss: 1.0719 - val_accuracy: 0.1632 - val_loss: 7.9394\n",
      "Epoch 24/50\n",
      "\u001b[1m816/816\u001b[0m \u001b[32m━━━━━━━━━━━━━━━━━━━━\u001b[0m\u001b[37m\u001b[0m \u001b[1m263s\u001b[0m 321ms/step - accuracy: 0.6992 - loss: 1.0393 - val_accuracy: 0.1664 - val_loss: 8.3658\n",
      "Epoch 25/50\n",
      "\u001b[1m816/816\u001b[0m \u001b[32m━━━━━━━━━━━━━━━━━━━━\u001b[0m\u001b[37m\u001b[0m \u001b[1m246s\u001b[0m 300ms/step - accuracy: 0.7190 - loss: 0.9433 - val_accuracy: 0.1739 - val_loss: 8.0990\n",
      "Epoch 26/50\n",
      "\u001b[1m816/816\u001b[0m \u001b[32m━━━━━━━━━━━━━━━━━━━━\u001b[0m\u001b[37m\u001b[0m \u001b[1m236s\u001b[0m 288ms/step - accuracy: 0.7367 - loss: 0.9099 - val_accuracy: 0.1767 - val_loss: 7.9023\n",
      "Epoch 27/50\n",
      "\u001b[1m816/816\u001b[0m \u001b[32m━━━━━━━━━━━━━━━━━━━━\u001b[0m\u001b[37m\u001b[0m \u001b[1m248s\u001b[0m 303ms/step - accuracy: 0.7364 - loss: 0.8793 - val_accuracy: 0.1678 - val_loss: 8.8877\n",
      "Epoch 28/50\n",
      "\u001b[1m816/816\u001b[0m \u001b[32m━━━━━━━━━━━━━━━━━━━━\u001b[0m\u001b[37m\u001b[0m \u001b[1m242s\u001b[0m 296ms/step - accuracy: 0.7660 - loss: 0.8209 - val_accuracy: 0.1863 - val_loss: 8.4394\n",
      "Epoch 29/50\n",
      "\u001b[1m816/816\u001b[0m \u001b[32m━━━━━━━━━━━━━━━━━━━━\u001b[0m\u001b[37m\u001b[0m \u001b[1m237s\u001b[0m 289ms/step - accuracy: 0.7517 - loss: 0.8328 - val_accuracy: 0.1725 - val_loss: 9.3767\n",
      "Epoch 30/50\n",
      "\u001b[1m816/816\u001b[0m \u001b[32m━━━━━━━━━━━━━━━━━━━━\u001b[0m\u001b[37m\u001b[0m \u001b[1m237s\u001b[0m 289ms/step - accuracy: 0.7697 - loss: 0.7988 - val_accuracy: 0.1693 - val_loss: 9.5268\n",
      "Epoch 31/50\n",
      "\u001b[1m816/816\u001b[0m \u001b[32m━━━━━━━━━━━━━━━━━━━━\u001b[0m\u001b[37m\u001b[0m \u001b[1m235s\u001b[0m 286ms/step - accuracy: 0.7719 - loss: 0.7690 - val_accuracy: 0.1763 - val_loss: 9.0067\n",
      "Epoch 32/50\n",
      "\u001b[1m816/816\u001b[0m \u001b[32m━━━━━━━━━━━━━━━━━━━━\u001b[0m\u001b[37m\u001b[0m \u001b[1m240s\u001b[0m 293ms/step - accuracy: 0.7653 - loss: 0.7543 - val_accuracy: 0.1661 - val_loss: 9.8205\n",
      "Epoch 33/50\n",
      "\u001b[1m816/816\u001b[0m \u001b[32m━━━━━━━━━━━━━━━━━━━━\u001b[0m\u001b[37m\u001b[0m \u001b[1m249s\u001b[0m 304ms/step - accuracy: 0.8005 - loss: 0.6852 - val_accuracy: 0.1618 - val_loss: 9.8893\n",
      "Epoch 34/50\n",
      "\u001b[1m816/816\u001b[0m \u001b[32m━━━━━━━━━━━━━━━━━━━━\u001b[0m\u001b[37m\u001b[0m \u001b[1m271s\u001b[0m 331ms/step - accuracy: 0.8070 - loss: 0.6507 - val_accuracy: 0.1799 - val_loss: 9.8453\n",
      "Epoch 35/50\n",
      "\u001b[1m816/816\u001b[0m \u001b[32m━━━━━━━━━━━━━━━━━━━━\u001b[0m\u001b[37m\u001b[0m \u001b[1m272s\u001b[0m 332ms/step - accuracy: 0.8154 - loss: 0.6333 - val_accuracy: 0.1689 - val_loss: 10.1628\n",
      "Epoch 36/50\n",
      "\u001b[1m816/816\u001b[0m \u001b[32m━━━━━━━━━━━━━━━━━━━━\u001b[0m\u001b[37m\u001b[0m \u001b[1m267s\u001b[0m 327ms/step - accuracy: 0.8049 - loss: 0.6260 - val_accuracy: 0.1664 - val_loss: 11.2221\n",
      "Epoch 37/50\n",
      "\u001b[1m816/816\u001b[0m \u001b[32m━━━━━━━━━━━━━━━━━━━━\u001b[0m\u001b[37m\u001b[0m \u001b[1m252s\u001b[0m 308ms/step - accuracy: 0.8218 - loss: 0.5949 - val_accuracy: 0.1725 - val_loss: 11.0455\n",
      "Epoch 38/50\n",
      "\u001b[1m816/816\u001b[0m \u001b[32m━━━━━━━━━━━━━━━━━━━━\u001b[0m\u001b[37m\u001b[0m \u001b[1m238s\u001b[0m 290ms/step - accuracy: 0.8070 - loss: 0.6596 - val_accuracy: 0.1742 - val_loss: 11.4344\n",
      "Epoch 39/50\n",
      "\u001b[1m816/816\u001b[0m \u001b[32m━━━━━━━━━━━━━━━━━━━━\u001b[0m\u001b[37m\u001b[0m \u001b[1m253s\u001b[0m 309ms/step - accuracy: 0.8289 - loss: 0.5929 - val_accuracy: 0.1696 - val_loss: 10.7663\n",
      "Epoch 40/50\n",
      "\u001b[1m816/816\u001b[0m \u001b[32m━━━━━━━━━━━━━━━━━━━━\u001b[0m\u001b[37m\u001b[0m \u001b[1m259s\u001b[0m 316ms/step - accuracy: 0.8387 - loss: 0.5354 - val_accuracy: 0.1622 - val_loss: 11.5254\n",
      "Epoch 41/50\n",
      "\u001b[1m816/816\u001b[0m \u001b[32m━━━━━━━━━━━━━━━━━━━━\u001b[0m\u001b[37m\u001b[0m \u001b[1m257s\u001b[0m 313ms/step - accuracy: 0.8321 - loss: 0.5917 - val_accuracy: 0.1824 - val_loss: 11.6462\n",
      "Epoch 42/50\n",
      "\u001b[1m816/816\u001b[0m \u001b[32m━━━━━━━━━━━━━━━━━━━━\u001b[0m\u001b[37m\u001b[0m \u001b[1m254s\u001b[0m 310ms/step - accuracy: 0.8390 - loss: 0.5410 - val_accuracy: 0.1838 - val_loss: 11.8989\n",
      "Epoch 43/50\n",
      "\u001b[1m816/816\u001b[0m \u001b[32m━━━━━━━━━━━━━━━━━━━━\u001b[0m\u001b[37m\u001b[0m \u001b[1m279s\u001b[0m 341ms/step - accuracy: 0.8457 - loss: 0.4821 - val_accuracy: 0.1813 - val_loss: 11.4672\n",
      "Epoch 44/50\n",
      "\u001b[1m816/816\u001b[0m \u001b[32m━━━━━━━━━━━━━━━━━━━━\u001b[0m\u001b[37m\u001b[0m \u001b[1m264s\u001b[0m 322ms/step - accuracy: 0.8549 - loss: 0.4994 - val_accuracy: 0.1689 - val_loss: 13.3886\n",
      "Epoch 45/50\n",
      "\u001b[1m816/816\u001b[0m \u001b[32m━━━━━━━━━━━━━━━━━━━━\u001b[0m\u001b[37m\u001b[0m \u001b[1m273s\u001b[0m 333ms/step - accuracy: 0.8498 - loss: 0.5203 - val_accuracy: 0.1827 - val_loss: 11.9896\n",
      "Epoch 46/50\n",
      "\u001b[1m816/816\u001b[0m \u001b[32m━━━━━━━━━━━━━━━━━━━━\u001b[0m\u001b[37m\u001b[0m \u001b[1m279s\u001b[0m 341ms/step - accuracy: 0.8603 - loss: 0.4572 - val_accuracy: 0.1827 - val_loss: 12.5352\n",
      "Epoch 47/50\n",
      "\u001b[1m816/816\u001b[0m \u001b[32m━━━━━━━━━━━━━━━━━━━━\u001b[0m\u001b[37m\u001b[0m \u001b[1m335s\u001b[0m 408ms/step - accuracy: 0.8562 - loss: 0.4937 - val_accuracy: 0.1618 - val_loss: 12.7578\n",
      "Epoch 48/50\n",
      "\u001b[1m816/816\u001b[0m \u001b[32m━━━━━━━━━━━━━━━━━━━━\u001b[0m\u001b[37m\u001b[0m \u001b[1m284s\u001b[0m 345ms/step - accuracy: 0.8812 - loss: 0.4013 - val_accuracy: 0.1601 - val_loss: 14.3352\n",
      "Epoch 49/50\n",
      "\u001b[1m816/816\u001b[0m \u001b[32m━━━━━━━━━━━━━━━━━━━━\u001b[0m\u001b[37m\u001b[0m \u001b[1m296s\u001b[0m 361ms/step - accuracy: 0.8677 - loss: 0.4732 - val_accuracy: 0.1661 - val_loss: 12.6909\n",
      "Epoch 50/50\n",
      "\u001b[1m816/816\u001b[0m \u001b[32m━━━━━━━━━━━━━━━━━━━━\u001b[0m\u001b[37m\u001b[0m \u001b[1m301s\u001b[0m 366ms/step - accuracy: 0.8828 - loss: 0.4471 - val_accuracy: 0.1707 - val_loss: 12.7686\n"
     ]
    },
    {
     "data": {
      "text/plain": [
       "<keras.src.callbacks.history.History at 0x1c68f5c5c10>"
      ]
     },
     "execution_count": 6,
     "metadata": {},
     "output_type": "execute_result"
    }
   ],
   "source": [
    "cnn.fit(x = training_set, validation_data = test_set, epochs = 50)"
   ]
  },
  {
   "cell_type": "code",
   "execution_count": 18,
   "metadata": {},
   "outputs": [],
   "source": [
    "import pickle\n",
    "\n",
    "with open(\"cnn_class.pkl\", \"wb\") as file:\n",
    "    pickle.dump(cnn, file)"
   ]
  },
  {
   "cell_type": "code",
   "execution_count": 14,
   "metadata": {},
   "outputs": [
    {
     "name": "stdout",
     "output_type": "stream",
     "text": [
      "\u001b[1m1/1\u001b[0m \u001b[32m━━━━━━━━━━━━━━━━━━━━\u001b[0m\u001b[37m\u001b[0m \u001b[1m0s\u001b[0m 81ms/step\n"
     ]
    },
    {
     "data": {
      "text/plain": [
       "array([[0., 0., 0., 0., 0., 0., 0., 0., 0., 0., 0., 0., 0., 0., 0., 0.,\n",
       "        0., 0., 0., 0., 0., 0., 0., 0., 0., 0., 0., 0., 0., 0., 0., 0.,\n",
       "        0., 0., 0., 0., 0., 0., 0., 0., 0., 0., 0., 0., 0., 0., 0., 0.,\n",
       "        0., 0., 0., 0., 0., 0., 0., 1., 0., 0., 0., 0., 0., 0., 0., 0.,\n",
       "        0., 0., 0., 0., 0., 0., 0., 0., 0., 0., 0., 0., 0., 0., 0., 0.]],\n",
       "      dtype=float32)"
      ]
     },
     "execution_count": 14,
     "metadata": {},
     "output_type": "execute_result"
    }
   ],
   "source": [
    "import numpy as np\n",
    "from keras.preprocessing import image\n",
    "test_image = image.load_img(r'C:\\Users\\rahul\\Downloads\\WhatsApp Image 2024-07-05 at 3.58.50 PM.jpeg', target_size = (128, 128))\n",
    "test_image = image.img_to_array(test_image)\n",
    "test_image = np.expand_dims(test_image, axis = 0)\n",
    "result = cnn.predict(test_image)\n",
    "result"
   ]
  },
  {
   "cell_type": "code",
   "execution_count": 13,
   "metadata": {},
   "outputs": [
    {
     "name": "stdout",
     "output_type": "stream",
     "text": [
      "{'Aloevera': 0, 'Amla': 1, 'Amruthaballi': 2, 'Arali': 3, 'Astma_weed': 4, 'Badipala': 5, 'Balloon_Vine': 6, 'Bamboo': 7, 'Beans': 8, 'Betel': 9, 'Bhrami': 10, 'Bringaraja': 11, 'Caricature': 12, 'Castor': 13, 'Catharanthus': 14, 'Chakte': 15, 'Chilly': 16, 'Citron lime (herelikai)': 17, 'Coffee': 18, 'Common rue(naagdalli)': 19, 'Coriender': 20, 'Curry': 21, 'Doddpathre': 22, 'Drumstick': 23, 'Ekka': 24, 'Eucalyptus': 25, 'Ganigale': 26, 'Ganike': 27, 'Gasagase': 28, 'Ginger': 29, 'Globe Amarnath': 30, 'Guava': 31, 'Henna': 32, 'Hibiscus': 33, 'Honge': 34, 'Insulin': 35, 'Jackfruit': 36, 'Jasmine': 37, 'Kambajala': 38, 'Kasambruga': 39, 'Kohlrabi': 40, 'Lantana': 41, 'Lemon': 42, 'Lemongrass': 43, 'Malabar_Nut': 44, 'Malabar_Spinach': 45, 'Mango': 46, 'Marigold': 47, 'Mint': 48, 'Neem': 49, 'Nelavembu': 50, 'Nerale': 51, 'Nooni': 52, 'Onion': 53, 'Padri': 54, 'Palak(Spinach)': 55, 'Papaya': 56, 'Parijatha': 57, 'Pea': 58, 'Pepper': 59, 'Pomoegranate': 60, 'Pumpkin': 61, 'Raddish': 62, 'Rose': 63, 'Sampige': 64, 'Sapota': 65, 'Seethaashoka': 66, 'Seethapala': 67, 'Spinach1': 68, 'Tamarind': 69, 'Taro': 70, 'Tecoma': 71, 'Thumbe': 72, 'Tomato': 73, 'Tulsi': 74, 'Turmeric': 75, 'ashoka': 76, 'camphor': 77, 'kamakasturi': 78, 'kepala': 79}\n",
      "[[0. 0. 1. 0. 0. 0. 0. 0. 0. 0. 0. 0. 0. 0. 0. 0. 0. 0. 0. 0. 0. 0. 0. 0.\n",
      "  0. 0. 0. 0. 0. 0. 0. 0. 0. 0. 0. 0. 0. 0. 0. 0. 0. 0. 0. 0. 0. 0. 0. 0.\n",
      "  0. 0. 0. 0. 0. 0. 0. 0. 0. 0. 0. 0. 0. 0. 0. 0. 0. 0. 0. 0. 0. 0. 0. 0.\n",
      "  0. 0. 0. 0. 0. 0. 0. 0.]]\n"
     ]
    }
   ],
   "source": [
    "training_set.class_indices\n",
    "print(training_set.class_indices)\n",
    "print(result)"
   ]
  },
  {
   "cell_type": "code",
   "execution_count": 17,
   "metadata": {},
   "outputs": [],
   "source": [
    "import pickle\n",
    "\n",
    "with open(\"trainingSet_class.pkl\", \"wb\") as file:\n",
    "    pickle.dump(training_set.class_indices, file)"
   ]
  }
 ],
 "metadata": {
  "kernelspec": {
   "display_name": "venv",
   "language": "python",
   "name": "python3"
  },
  "language_info": {
   "codemirror_mode": {
    "name": "ipython",
    "version": 3
   },
   "file_extension": ".py",
   "mimetype": "text/x-python",
   "name": "python",
   "nbconvert_exporter": "python",
   "pygments_lexer": "ipython3",
   "version": "3.12.3"
  }
 },
 "nbformat": 4,
 "nbformat_minor": 2
}
