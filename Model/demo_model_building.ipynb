{
 "cells": [
  {
   "cell_type": "code",
   "execution_count": 1,
   "metadata": {},
   "outputs": [],
   "source": [
    "import numpy as np\n",
    "import tensorflow as tf\n",
    "from tensorflow.keras.preprocessing.image import ImageDataGenerator"
   ]
  },
  {
   "cell_type": "code",
   "execution_count": 2,
   "metadata": {},
   "outputs": [
    {
     "data": {
      "text/plain": [
       "'2.16.1'"
      ]
     },
     "execution_count": 2,
     "metadata": {},
     "output_type": "execute_result"
    }
   ],
   "source": [
    "tf.__version__"
   ]
  },
  {
   "cell_type": "code",
   "execution_count": 7,
   "metadata": {},
   "outputs": [
    {
     "name": "stdout",
     "output_type": "stream",
     "text": [
      "Found 756 images belonging to 21 classes.\n"
     ]
    }
   ],
   "source": [
    "train_datagen = ImageDataGenerator(rescale = 1./255,\n",
    "                                   shear_range = 0.2,\n",
    "                                   zoom_range = 0.2,\n",
    "                                   horizontal_flip = True)\n",
    "training_set = train_datagen.flow_from_directory(r'dataset\\training',\n",
    "                                                 target_size = (128, 128),\n",
    "                                                 batch_size = 5,\n",
    "                                                 class_mode = 'categorical')"
   ]
  },
  {
   "cell_type": "code",
   "execution_count": 8,
   "metadata": {},
   "outputs": [
    {
     "name": "stdout",
     "output_type": "stream",
     "text": [
      "Found 315 images belonging to 21 classes.\n"
     ]
    }
   ],
   "source": [
    "test_datagen = ImageDataGenerator(rescale = 1./255)\n",
    "test_set = test_datagen.flow_from_directory(r'dataset\\test',\n",
    "                                            target_size = (128, 128),\n",
    "                                            batch_size = 5,\n",
    "                                            class_mode = 'categorical'\n",
    "                                            )"
   ]
  },
  {
   "cell_type": "code",
   "execution_count": 9,
   "metadata": {},
   "outputs": [
    {
     "name": "stderr",
     "output_type": "stream",
     "text": [
      "c:\\Users\\princ\\OneDrive\\Desktop\\Final Year\\project\\Model\\venv\\Lib\\site-packages\\keras\\src\\layers\\convolutional\\base_conv.py:107: UserWarning: Do not pass an `input_shape`/`input_dim` argument to a layer. When using Sequential models, prefer using an `Input(shape)` object as the first layer in the model instead.\n",
      "  super().__init__(activity_regularizer=activity_regularizer, **kwargs)\n"
     ]
    }
   ],
   "source": [
    "#creating cnn sequential\n",
    "cnn = tf.keras.models.Sequential()\n",
    "\n",
    "\n",
    "#adding filter, pooler and Flater\n",
    "cnn.add(tf.keras.layers.Conv2D(filters=64, kernel_size = 3, activation='relu', input_shape=[128, 128, 3]))\n",
    "cnn.add(tf.keras.layers.MaxPool2D(pool_size=2, strides=2))\n",
    "cnn.add(tf.keras.layers.Conv2D(filters=64, kernel_size=3, activation='relu'))\n",
    "cnn.add(tf.keras.layers.MaxPool2D(pool_size=2, strides=2))\n",
    "cnn.add(tf.keras.layers.Flatten())\n",
    "\n",
    "#adding deep neural network to cnn\n",
    "cnn.add(tf.keras.layers.Dense(units=128, activation='relu'))\n",
    "cnn.add(tf.keras.layers.Dense(units=80, activation='softmax'))\n",
    "\n",
    "cnn.compile(optimizer = 'adam', loss = 'categorical_crossentropy', metrics = ['accuracy'])"
   ]
  },
  {
   "cell_type": "code",
   "execution_count": 10,
   "metadata": {},
   "outputs": [
    {
     "name": "stdout",
     "output_type": "stream",
     "text": [
      "Epoch 1/25\n"
     ]
    },
    {
     "name": "stderr",
     "output_type": "stream",
     "text": [
      "c:\\Users\\princ\\OneDrive\\Desktop\\Final Year\\project\\Model\\venv\\Lib\\site-packages\\keras\\src\\trainers\\data_adapters\\py_dataset_adapter.py:121: UserWarning: Your `PyDataset` class should call `super().__init__(**kwargs)` in its constructor. `**kwargs` can include `workers`, `use_multiprocessing`, `max_queue_size`. Do not pass these arguments to `fit()`, as they will be ignored.\n",
      "  self._warn_if_super_not_called()\n"
     ]
    },
    {
     "name": "stdout",
     "output_type": "stream",
     "text": [
      "\u001b[1m152/152\u001b[0m \u001b[32m━━━━━━━━━━━━━━━━━━━━\u001b[0m\u001b[37m\u001b[0m \u001b[1m38s\u001b[0m 228ms/step - accuracy: 0.0712 - loss: 3.0330 - val_accuracy: 0.0857 - val_loss: 2.9493\n",
      "Epoch 2/25\n",
      "\u001b[1m152/152\u001b[0m \u001b[32m━━━━━━━━━━━━━━━━━━━━\u001b[0m\u001b[37m\u001b[0m \u001b[1m25s\u001b[0m 163ms/step - accuracy: 0.2103 - loss: 2.6716 - val_accuracy: 0.1683 - val_loss: 2.7614\n",
      "Epoch 3/25\n",
      "\u001b[1m152/152\u001b[0m \u001b[32m━━━━━━━━━━━━━━━━━━━━\u001b[0m\u001b[37m\u001b[0m \u001b[1m26s\u001b[0m 160ms/step - accuracy: 0.3498 - loss: 2.1541 - val_accuracy: 0.2349 - val_loss: 2.8846\n",
      "Epoch 4/25\n",
      "\u001b[1m152/152\u001b[0m \u001b[32m━━━━━━━━━━━━━━━━━━━━\u001b[0m\u001b[37m\u001b[0m \u001b[1m32s\u001b[0m 210ms/step - accuracy: 0.4656 - loss: 1.7058 - val_accuracy: 0.2571 - val_loss: 2.8562\n",
      "Epoch 5/25\n",
      "\u001b[1m152/152\u001b[0m \u001b[32m━━━━━━━━━━━━━━━━━━━━\u001b[0m\u001b[37m\u001b[0m \u001b[1m34s\u001b[0m 225ms/step - accuracy: 0.5755 - loss: 1.3719 - val_accuracy: 0.2762 - val_loss: 3.3951\n",
      "Epoch 6/25\n",
      "\u001b[1m152/152\u001b[0m \u001b[32m━━━━━━━━━━━━━━━━━━━━\u001b[0m\u001b[37m\u001b[0m \u001b[1m29s\u001b[0m 187ms/step - accuracy: 0.6077 - loss: 1.2560 - val_accuracy: 0.2698 - val_loss: 2.8463\n",
      "Epoch 7/25\n",
      "\u001b[1m152/152\u001b[0m \u001b[32m━━━━━━━━━━━━━━━━━━━━\u001b[0m\u001b[37m\u001b[0m \u001b[1m30s\u001b[0m 193ms/step - accuracy: 0.6362 - loss: 1.1074 - val_accuracy: 0.3460 - val_loss: 2.7850\n",
      "Epoch 8/25\n",
      "\u001b[1m152/152\u001b[0m \u001b[32m━━━━━━━━━━━━━━━━━━━━\u001b[0m\u001b[37m\u001b[0m \u001b[1m35s\u001b[0m 226ms/step - accuracy: 0.7002 - loss: 0.9911 - val_accuracy: 0.3302 - val_loss: 2.6374\n",
      "Epoch 9/25\n",
      "\u001b[1m152/152\u001b[0m \u001b[32m━━━━━━━━━━━━━━━━━━━━\u001b[0m\u001b[37m\u001b[0m \u001b[1m27s\u001b[0m 175ms/step - accuracy: 0.7540 - loss: 0.7555 - val_accuracy: 0.3333 - val_loss: 3.0567\n",
      "Epoch 10/25\n",
      "\u001b[1m152/152\u001b[0m \u001b[32m━━━━━━━━━━━━━━━━━━━━\u001b[0m\u001b[37m\u001b[0m \u001b[1m34s\u001b[0m 200ms/step - accuracy: 0.7733 - loss: 0.7527 - val_accuracy: 0.3175 - val_loss: 3.2556\n",
      "Epoch 11/25\n",
      "\u001b[1m152/152\u001b[0m \u001b[32m━━━━━━━━━━━━━━━━━━━━\u001b[0m\u001b[37m\u001b[0m \u001b[1m28s\u001b[0m 175ms/step - accuracy: 0.8046 - loss: 0.6140 - val_accuracy: 0.3079 - val_loss: 3.3412\n",
      "Epoch 12/25\n",
      "\u001b[1m152/152\u001b[0m \u001b[32m━━━━━━━━━━━━━━━━━━━━\u001b[0m\u001b[37m\u001b[0m \u001b[1m30s\u001b[0m 192ms/step - accuracy: 0.8262 - loss: 0.5568 - val_accuracy: 0.3270 - val_loss: 3.2220\n",
      "Epoch 13/25\n",
      "\u001b[1m152/152\u001b[0m \u001b[32m━━━━━━━━━━━━━━━━━━━━\u001b[0m\u001b[37m\u001b[0m \u001b[1m31s\u001b[0m 196ms/step - accuracy: 0.8524 - loss: 0.4767 - val_accuracy: 0.3587 - val_loss: 3.4367\n",
      "Epoch 14/25\n",
      "\u001b[1m152/152\u001b[0m \u001b[32m━━━━━━━━━━━━━━━━━━━━\u001b[0m\u001b[37m\u001b[0m \u001b[1m29s\u001b[0m 187ms/step - accuracy: 0.8960 - loss: 0.3449 - val_accuracy: 0.3619 - val_loss: 3.5681\n",
      "Epoch 15/25\n",
      "\u001b[1m152/152\u001b[0m \u001b[32m━━━━━━━━━━━━━━━━━━━━\u001b[0m\u001b[37m\u001b[0m \u001b[1m29s\u001b[0m 186ms/step - accuracy: 0.8794 - loss: 0.3425 - val_accuracy: 0.3778 - val_loss: 3.5650\n",
      "Epoch 16/25\n",
      "\u001b[1m152/152\u001b[0m \u001b[32m━━━━━━━━━━━━━━━━━━━━\u001b[0m\u001b[37m\u001b[0m \u001b[1m31s\u001b[0m 198ms/step - accuracy: 0.9016 - loss: 0.3483 - val_accuracy: 0.3556 - val_loss: 4.2299\n",
      "Epoch 17/25\n",
      "\u001b[1m152/152\u001b[0m \u001b[32m━━━━━━━━━━━━━━━━━━━━\u001b[0m\u001b[37m\u001b[0m \u001b[1m28s\u001b[0m 182ms/step - accuracy: 0.8563 - loss: 0.3827 - val_accuracy: 0.3968 - val_loss: 3.8771\n",
      "Epoch 18/25\n",
      "\u001b[1m152/152\u001b[0m \u001b[32m━━━━━━━━━━━━━━━━━━━━\u001b[0m\u001b[37m\u001b[0m \u001b[1m35s\u001b[0m 228ms/step - accuracy: 0.9223 - loss: 0.2580 - val_accuracy: 0.3587 - val_loss: 3.8122\n",
      "Epoch 19/25\n",
      "\u001b[1m152/152\u001b[0m \u001b[32m━━━━━━━━━━━━━━━━━━━━\u001b[0m\u001b[37m\u001b[0m \u001b[1m34s\u001b[0m 220ms/step - accuracy: 0.9092 - loss: 0.2779 - val_accuracy: 0.3714 - val_loss: 3.8857\n",
      "Epoch 20/25\n",
      "\u001b[1m152/152\u001b[0m \u001b[32m━━━━━━━━━━━━━━━━━━━━\u001b[0m\u001b[37m\u001b[0m \u001b[1m28s\u001b[0m 180ms/step - accuracy: 0.9595 - loss: 0.1888 - val_accuracy: 0.4000 - val_loss: 4.0183\n",
      "Epoch 21/25\n",
      "\u001b[1m152/152\u001b[0m \u001b[32m━━━━━━━━━━━━━━━━━━━━\u001b[0m\u001b[37m\u001b[0m \u001b[1m28s\u001b[0m 184ms/step - accuracy: 0.9363 - loss: 0.1934 - val_accuracy: 0.3841 - val_loss: 4.4355\n",
      "Epoch 22/25\n",
      "\u001b[1m152/152\u001b[0m \u001b[32m━━━━━━━━━━━━━━━━━━━━\u001b[0m\u001b[37m\u001b[0m \u001b[1m28s\u001b[0m 181ms/step - accuracy: 0.9408 - loss: 0.2212 - val_accuracy: 0.3810 - val_loss: 4.0222\n",
      "Epoch 23/25\n",
      "\u001b[1m152/152\u001b[0m \u001b[32m━━━━━━━━━━━━━━━━━━━━\u001b[0m\u001b[37m\u001b[0m \u001b[1m28s\u001b[0m 179ms/step - accuracy: 0.9290 - loss: 0.2065 - val_accuracy: 0.3841 - val_loss: 4.0176\n",
      "Epoch 24/25\n",
      "\u001b[1m152/152\u001b[0m \u001b[32m━━━━━━━━━━━━━━━━━━━━\u001b[0m\u001b[37m\u001b[0m \u001b[1m28s\u001b[0m 178ms/step - accuracy: 0.9434 - loss: 0.1880 - val_accuracy: 0.3873 - val_loss: 4.1649\n",
      "Epoch 25/25\n",
      "\u001b[1m152/152\u001b[0m \u001b[32m━━━━━━━━━━━━━━━━━━━━\u001b[0m\u001b[37m\u001b[0m \u001b[1m27s\u001b[0m 175ms/step - accuracy: 0.9757 - loss: 0.1174 - val_accuracy: 0.4000 - val_loss: 4.5615\n"
     ]
    },
    {
     "data": {
      "text/plain": [
       "<keras.src.callbacks.history.History at 0x2735db86ed0>"
      ]
     },
     "execution_count": 10,
     "metadata": {},
     "output_type": "execute_result"
    }
   ],
   "source": [
    "cnn.fit(x = training_set, validation_data = test_set, epochs = 50)"
   ]
  },
  {
   "cell_type": "code",
   "execution_count": 14,
   "metadata": {},
   "outputs": [],
   "source": [
    "import pickle\n",
    "\n",
    "with open(\"cnn_class.pkl\", \"wb\") as file:\n",
    "    pickle.dump(cnn, file)"
   ]
  },
  {
   "cell_type": "code",
   "execution_count": 27,
   "metadata": {},
   "outputs": [
    {
     "name": "stdout",
     "output_type": "stream",
     "text": [
      "\u001b[1m1/1\u001b[0m \u001b[32m━━━━━━━━━━━━━━━━━━━━\u001b[0m\u001b[37m\u001b[0m \u001b[1m0s\u001b[0m 197ms/step\n"
     ]
    }
   ],
   "source": [
    "import numpy as np\n",
    "from keras.preprocessing import image\n",
    "test_image = image.load_img(r'dataset\\test\\Arali\\4480.jpg', target_size = (128, 128))\n",
    "test_image = image.img_to_array(test_image)\n",
    "test_image = np.expand_dims(test_image, axis = 0)\n",
    "result = cnn.predict(test_image)\n",
    "if result[0][0] == 1:\n",
    "  prediction = 'Arali'\n",
    "else:\n",
    "  prediction = 'Amla'"
   ]
  },
  {
   "cell_type": "code",
   "execution_count": 29,
   "metadata": {},
   "outputs": [
    {
     "name": "stdout",
     "output_type": "stream",
     "text": [
      "{'Amla': 0, 'Arali': 1, 'Brahmi': 2, 'Doddapatre': 3}\n",
      "[[0. 1. 0. 0.]]\n"
     ]
    }
   ],
   "source": [
    "training_set.class_indices\n",
    "print(training_set.class_indices)\n",
    "print(result)"
   ]
  },
  {
   "cell_type": "code",
   "execution_count": null,
   "metadata": {},
   "outputs": [],
   "source": []
  }
 ],
 "metadata": {
  "kernelspec": {
   "display_name": "venv",
   "language": "python",
   "name": "python3"
  },
  "language_info": {
   "codemirror_mode": {
    "name": "ipython",
    "version": 3
   },
   "file_extension": ".py",
   "mimetype": "text/x-python",
   "name": "python",
   "nbconvert_exporter": "python",
   "pygments_lexer": "ipython3",
   "version": "3.12.2"
  }
 },
 "nbformat": 4,
 "nbformat_minor": 2
}
